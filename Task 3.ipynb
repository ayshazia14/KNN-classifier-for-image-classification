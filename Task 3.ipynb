{
 "cells": [
  {
   "metadata": {
    "ExecuteTime": {
     "end_time": "2024-09-19T16:13:40.882471Z",
     "start_time": "2024-09-19T16:13:37.477165Z"
    }
   },
   "cell_type": "code",
   "source": [
    "import numpy as np\n",
    "import matplotlib.pyplot as plt\n",
    "import seaborn as sns\n",
    "from sklearn.pipeline import Pipeline\n",
    "from sklearn.preprocessing import MinMaxScaler\n",
    "from sklearn.model_selection import cross_validate\n",
    "from sklearn.neighbors import KNeighborsClassifier\n",
    "from sklearn.metrics import confusion_matrix, classification_report, accuracy_score\n",
    "import warnings\n",
    "warnings.filterwarnings('ignore')\n",
    "import pandas as pd\n",
    "dataset = pd.read_csv(\"/Users/AyshaZia/Desktop/fashion-mnist_train.csv\")\n",
    "print (dataset.head())"
   ],
   "id": "fe2edb27f36ca3cb",
   "outputs": [
    {
     "name": "stdout",
     "output_type": "stream",
     "text": [
      "   label  pixel1  pixel2  pixel3  pixel4  pixel5  pixel6  pixel7  pixel8  \\\n",
      "0      2       0       0       0       0       0       0       0       0   \n",
      "1      9       0       0       0       0       0       0       0       0   \n",
      "2      6       0       0       0       0       0       0       0       5   \n",
      "3      0       0       0       0       1       2       0       0       0   \n",
      "4      3       0       0       0       0       0       0       0       0   \n",
      "\n",
      "   pixel9  ...  pixel775  pixel776  pixel777  pixel778  pixel779  pixel780  \\\n",
      "0       0  ...         0         0         0         0         0         0   \n",
      "1       0  ...         0         0         0         0         0         0   \n",
      "2       0  ...         0         0         0        30        43         0   \n",
      "3       0  ...         3         0         0         0         0         1   \n",
      "4       0  ...         0         0         0         0         0         0   \n",
      "\n",
      "   pixel781  pixel782  pixel783  pixel784  \n",
      "0         0         0         0         0  \n",
      "1         0         0         0         0  \n",
      "2         0         0         0         0  \n",
      "3         0         0         0         0  \n",
      "4         0         0         0         0  \n",
      "\n",
      "[5 rows x 785 columns]\n"
     ]
    }
   ],
   "execution_count": 65
  },
  {
   "metadata": {
    "ExecuteTime": {
     "end_time": "2024-09-19T14:50:00.494636Z",
     "start_time": "2024-09-19T14:50:00.449187Z"
    }
   },
   "cell_type": "code",
   "source": "dataset.info()",
   "id": "f1759ed00c86bbaf",
   "outputs": [
    {
     "name": "stdout",
     "output_type": "stream",
     "text": [
      "<class 'pandas.core.frame.DataFrame'>\n",
      "Int64Index: 59950 entries, 7 to 60000\n",
      "Columns: 785 entries, fashion-mnist_train to Unnamed: 784\n",
      "dtypes: object(785)\n",
      "memory usage: 359.5+ MB\n"
     ]
    }
   ],
   "execution_count": 19
  },
  {
   "metadata": {
    "ExecuteTime": {
     "end_time": "2024-09-19T14:41:17.170012Z",
     "start_time": "2024-09-19T14:41:11.689493Z"
    }
   },
   "cell_type": "code",
   "source": "dataset.isnull().sum().sum()",
   "id": "96e460bbcaf4685d",
   "outputs": [
    {
     "data": {
      "text/plain": [
       "0"
      ]
     },
     "execution_count": 3,
     "metadata": {},
     "output_type": "execute_result"
    }
   ],
   "execution_count": 3
  },
  {
   "metadata": {
    "ExecuteTime": {
     "end_time": "2024-09-19T14:41:29.777267Z",
     "start_time": "2024-09-19T14:41:27.472852Z"
    }
   },
   "cell_type": "code",
   "source": "dataset.duplicated().sum()",
   "id": "55b4bab54f6f9bc9",
   "outputs": [
    {
     "data": {
      "text/plain": [
       "43"
      ]
     },
     "execution_count": 4,
     "metadata": {},
     "output_type": "execute_result"
    }
   ],
   "execution_count": 4
  },
  {
   "metadata": {
    "ExecuteTime": {
     "end_time": "2024-09-19T16:01:13.552302Z",
     "start_time": "2024-09-19T16:01:09.225612Z"
    }
   },
   "cell_type": "code",
   "source": [
    "dataset.drop_duplicates(inplace=True)\n",
    "dataset.shape"
   ],
   "id": "e86ba15775502e46",
   "outputs": [
    {
     "data": {
      "text/plain": [
       "(59958, 785)"
      ]
     },
     "execution_count": 30,
     "metadata": {},
     "output_type": "execute_result"
    }
   ],
   "execution_count": 30
  },
  {
   "metadata": {
    "ExecuteTime": {
     "end_time": "2024-09-19T16:07:49.082989Z",
     "start_time": "2024-09-19T16:07:49.062380Z"
    }
   },
   "cell_type": "code",
   "source": "dataset.label.unique()",
   "id": "9428871e5c440307",
   "outputs": [
    {
     "data": {
      "text/plain": [
       "array([2, 9, 6, 0, 3, 4, 5, 8, 7, 1])"
      ]
     },
     "execution_count": 43,
     "metadata": {},
     "output_type": "execute_result"
    }
   ],
   "execution_count": 43
  },
  {
   "metadata": {
    "ExecuteTime": {
     "end_time": "2024-09-19T16:09:25.423649Z",
     "start_time": "2024-09-19T16:09:24.973512Z"
    }
   },
   "cell_type": "code",
   "source": [
    "# Creating X and y variables\n",
    "X=dataset.drop('label',axis=1)\n",
    "Y=dataset.label"
   ],
   "id": "c5b04ca3290310fd",
   "outputs": [],
   "execution_count": 46
  },
  {
   "metadata": {
    "ExecuteTime": {
     "end_time": "2024-09-19T16:09:39.142898Z",
     "start_time": "2024-09-19T16:09:39.126015Z"
    }
   },
   "cell_type": "code",
   "source": [
    "xx=X[0:500]\n",
    "yy=Y[0:500]"
   ],
   "id": "de66b4943314e1da",
   "outputs": [],
   "execution_count": 48
  },
  {
   "metadata": {
    "ExecuteTime": {
     "end_time": "2024-09-19T16:10:03.804377Z",
     "start_time": "2024-09-19T16:10:03.795681Z"
    }
   },
   "cell_type": "code",
   "source": "xx.shape",
   "id": "b398903da2cbfa2c",
   "outputs": [
    {
     "data": {
      "text/plain": [
       "(500, 784)"
      ]
     },
     "execution_count": 51,
     "metadata": {},
     "output_type": "execute_result"
    }
   ],
   "execution_count": 51
  },
  {
   "metadata": {
    "ExecuteTime": {
     "end_time": "2024-09-19T16:10:19.887208Z",
     "start_time": "2024-09-19T16:10:19.877160Z"
    }
   },
   "cell_type": "code",
   "source": "normalize=MinMaxScaler()",
   "id": "54b2e05371afe0f8",
   "outputs": [],
   "execution_count": 53
  },
  {
   "metadata": {
    "ExecuteTime": {
     "end_time": "2024-09-19T16:10:41.083833Z",
     "start_time": "2024-09-19T16:10:34.425975Z"
    }
   },
   "cell_type": "code",
   "source": [
    "test_error_rate=[]\n",
    "train_error_rate=[]\n",
    "for k in range(1,31):\n",
    "    # creating a KNN model with K\n",
    "    knn=KNeighborsClassifier(k)\n",
    "    # sequence of operations to be performed\n",
    "    operations=[('normalize',normalize),('knn',knn)]\n",
    "    # creating a pipeline\n",
    "    pipe=Pipeline(steps=operations)\n",
    "    # performing 5-fold cross validation using the pipeline and df\n",
    "    cross_dict=cross_validate(pipe,xx,yy,cv=5,scoring='accuracy', return_train_score=True)\n",
    "    # capturing train and test error rate for elbow graph\n",
    "    test_error_rate.append(cross_dict['test_score'].mean())\n",
    "    train_error_rate.append(cross_dict['train_score'].mean())"
   ],
   "id": "83f6f6973f72bebe",
   "outputs": [],
   "execution_count": 54
  },
  {
   "metadata": {
    "ExecuteTime": {
     "end_time": "2024-09-19T16:11:17.735823Z",
     "start_time": "2024-09-19T16:11:17.718911Z"
    }
   },
   "cell_type": "code",
   "source": "test_error_rate",
   "id": "92c6075b95cc27c1",
   "outputs": [
    {
     "data": {
      "text/plain": [
       "[0.708,\n",
       " 0.702,\n",
       " 0.726,\n",
       " 0.7060000000000001,\n",
       " 0.726,\n",
       " 0.724,\n",
       " 0.7180000000000001,\n",
       " 0.7140000000000001,\n",
       " 0.712,\n",
       " 0.708,\n",
       " 0.7,\n",
       " 0.708,\n",
       " 0.7020000000000001,\n",
       " 0.6899999999999998,\n",
       " 0.686,\n",
       " 0.6859999999999999,\n",
       " 0.6839999999999999,\n",
       " 0.6980000000000001,\n",
       " 0.698,\n",
       " 0.688,\n",
       " 0.6819999999999999,\n",
       " 0.674,\n",
       " 0.672,\n",
       " 0.668,\n",
       " 0.6719999999999999,\n",
       " 0.668,\n",
       " 0.6679999999999999,\n",
       " 0.666,\n",
       " 0.6759999999999999,\n",
       " 0.6759999999999999]"
      ]
     },
     "execution_count": 55,
     "metadata": {},
     "output_type": "execute_result"
    }
   ],
   "execution_count": 55
  },
  {
   "metadata": {
    "ExecuteTime": {
     "end_time": "2024-09-19T16:11:33.944240Z",
     "start_time": "2024-09-19T16:11:33.934097Z"
    }
   },
   "cell_type": "code",
   "source": [
    "train_error_rate=[1-acc for acc in train_error_rate]\n",
    "test_error_rate=[1-acc for acc in test_error_rate]"
   ],
   "id": "fbc167c5bef9dc0f",
   "outputs": [],
   "execution_count": 56
  },
  {
   "metadata": {
    "ExecuteTime": {
     "end_time": "2024-09-19T16:12:14.379580Z",
     "start_time": "2024-09-19T16:12:14.237934Z"
    }
   },
   "cell_type": "code",
   "source": [
    "plt.title('Elbow Graph')\n",
    "plt.xlabel('K')\n",
    "plt.ylabel('error_rate')\n",
    "sns.lineplot(x=range(1,31),y=test_error_rate, color='green');"
   ],
   "id": "28a17f36339572f1",
   "outputs": [
    {
     "data": {
      "text/plain": [
       "<Figure size 432x288 with 1 Axes>"
      ],
      "image/png": "[encoded data removed]"
     },
     "metadata": {},
     "output_type": "display_data"
    }
   ],
   "execution_count": 60
  },
  {
   "metadata": {
    "ExecuteTime": {
     "end_time": "2024-09-19T16:12:45.665885Z",
     "start_time": "2024-09-19T16:12:45.654972Z"
    }
   },
   "cell_type": "code",
   "source": "knn=KNeighborsClassifier(n_neighbors=5)",
   "id": "b906666753d82cc8",
   "outputs": [],
   "execution_count": 61
  },
  {
   "metadata": {
    "ExecuteTime": {
     "end_time": "2024-09-19T16:12:53.844221Z",
     "start_time": "2024-09-19T16:12:53.786035Z"
    }
   },
   "cell_type": "code",
   "source": "X_norm=normalize.fit_transform(xx)",
   "id": "6d3267446c492d8",
   "outputs": [],
   "execution_count": 62
  },
  {
   "metadata": {
    "ExecuteTime": {
     "end_time": "2024-09-19T16:13:02.252559Z",
     "start_time": "2024-09-19T16:13:02.224965Z"
    }
   },
   "cell_type": "code",
   "source": "knn.fit(X_norm,yy)",
   "id": "ff66998927b8e49d",
   "outputs": [
    {
     "data": {
      "text/plain": [
       "KNeighborsClassifier()"
      ]
     },
     "execution_count": 63,
     "metadata": {},
     "output_type": "execute_result"
    }
   ],
   "execution_count": 63
  },
  {
   "metadata": {
    "ExecuteTime": {
     "end_time": "2024-09-19T16:13:16.470629Z",
     "start_time": "2024-09-19T16:13:16.416158Z"
    }
   },
   "cell_type": "code",
   "source": [
    "y_pred=knn.predict(X_norm)\n",
    "y_pred"
   ],
   "id": "dc896e8bdade9bf9",
   "outputs": [
    {
     "data": {
      "text/plain": [
       "array([8, 9, 4, 0, 3, 4, 4, 7, 4, 8, 0, 6, 9, 0, 2, 0, 9, 3, 0, 3, 8, 7,\n",
       "       6, 4, 0, 4, 4, 6, 7, 1, 5, 0, 7, 0, 3, 9, 3, 2, 2, 1, 6, 0, 9, 0,\n",
       "       0, 7, 6, 7, 7, 2, 5, 2, 2, 4, 1, 4, 9, 8, 0, 4, 5, 9, 6, 3, 5, 8,\n",
       "       5, 9, 8, 1, 2, 8, 1, 4, 2, 8, 3, 4, 2, 5, 3, 2, 6, 8, 1, 6, 7, 3,\n",
       "       6, 4, 6, 5, 0, 1, 7, 3, 7, 9, 2, 3, 8, 5, 0, 5, 3, 0, 8, 7, 6, 1,\n",
       "       0, 7, 2, 1, 9, 7, 6, 9, 3, 3, 2, 2, 0, 6, 1, 0, 3, 5, 9, 7, 7, 0,\n",
       "       3, 6, 7, 2, 4, 1, 3, 1, 0, 2, 3, 0, 3, 3, 6, 7, 9, 3, 7, 2, 6, 8,\n",
       "       8, 0, 7, 5, 6, 1, 9, 5, 3, 7, 0, 8, 9, 7, 7, 7, 0, 9, 2, 0, 0, 4,\n",
       "       1, 9, 4, 7, 2, 3, 0, 0, 8, 3, 5, 2, 3, 2, 6, 1, 7, 7, 5, 7, 7, 8,\n",
       "       0, 4, 3, 9, 7, 4, 5, 3, 2, 7, 6, 9, 6, 9, 2, 1, 2, 7, 3, 8, 3, 1,\n",
       "       3, 0, 0, 0, 3, 2, 8, 9, 2, 8, 8, 2, 6, 6, 8, 7, 0, 1, 3, 9, 5, 1,\n",
       "       9, 0, 7, 7, 7, 2, 3, 8, 2, 2, 5, 9, 3, 4, 9, 3, 1, 3, 0, 9, 1, 4,\n",
       "       9, 9, 4, 2, 3, 6, 1, 4, 9, 3, 7, 4, 6, 7, 0, 1, 1, 7, 2, 2, 1, 0,\n",
       "       3, 1, 5, 5, 8, 4, 7, 2, 3, 8, 4, 5, 5, 6, 3, 8, 9, 9, 4, 4, 0, 3,\n",
       "       4, 6, 1, 9, 8, 2, 7, 3, 0, 3, 9, 7, 6, 1, 7, 3, 2, 0, 6, 4, 5, 5,\n",
       "       2, 9, 8, 2, 8, 7, 6, 2, 9, 3, 0, 2, 3, 4, 6, 2, 2, 4, 0, 8, 8, 2,\n",
       "       6, 2, 4, 9, 2, 4, 7, 2, 2, 7, 8, 7, 4, 9, 3, 2, 2, 5, 4, 1, 1, 3,\n",
       "       3, 0, 3, 9, 6, 7, 7, 3, 5, 8, 9, 1, 0, 9, 0, 4, 5, 2, 0, 7, 3, 0,\n",
       "       7, 9, 3, 5, 0, 0, 2, 7, 2, 3, 2, 3, 2, 0, 3, 5, 6, 4, 9, 0, 6, 0,\n",
       "       3, 3, 1, 6, 8, 4, 9, 9, 0, 6, 3, 7, 7, 6, 8, 9, 5, 2, 2, 6, 9, 0,\n",
       "       3, 0, 0, 5, 2, 9, 7, 8, 7, 5, 6, 4, 8, 0, 3, 2, 2, 0, 0, 9, 2, 4,\n",
       "       4, 0, 3, 7, 0, 3, 9, 9, 8, 7, 0, 5, 0, 0, 7, 7, 3, 3, 7, 3, 2, 0,\n",
       "       3, 2, 0, 6, 0, 1, 9, 9, 7, 3, 0, 6, 1, 2, 3, 1])"
      ]
     },
     "execution_count": 64,
     "metadata": {},
     "output_type": "execute_result"
    }
   ],
   "execution_count": 64
  },
  {
   "metadata": {
    "ExecuteTime": {
     "end_time": "2024-09-19T16:14:02.066431Z",
     "start_time": "2024-09-19T16:14:01.762042Z"
    }
   },
   "cell_type": "code",
   "source": [
    "sns.heatmap(confusion_matrix(yy,y_pred), annot=True, cmap='mako', fmt='.5g')\n",
    "plt.xlabel('Predicted')\n",
    "plt.ylabel('Actual')"
   ],
   "id": "5684dd85ec055fce",
   "outputs": [
    {
     "data": {
      "text/plain": [
       "Text(34.0, 0.5, 'Actuals')"
      ]
     },
     "execution_count": 66,
     "metadata": {},
     "output_type": "execute_result"
    },
    {
     "data": {
      "text/plain": [
       "<Figure size 432x288 with 2 Axes>"
      ],
      "image/png": "[encoded data removed]"
     },
     "metadata": {},
     "output_type": "display_data"
    }
   ],
   "execution_count": 66
  },
  {
   "metadata": {
    "ExecuteTime": {
     "end_time": "2024-09-19T16:14:41.548739Z",
     "start_time": "2024-09-19T16:14:41.508834Z"
    }
   },
   "cell_type": "code",
   "source": "print(classification_report(yy,y_pred))",
   "id": "cf7b8b50da0d4d9d",
   "outputs": [
    {
     "name": "stdout",
     "output_type": "stream",
     "text": [
      "              precision    recall  f1-score   support\n",
      "\n",
      "           0       0.74      0.96      0.83        52\n",
      "           1       0.97      0.89      0.93        38\n",
      "           2       0.59      0.82      0.69        45\n",
      "           3       0.81      0.88      0.84        65\n",
      "           4       0.80      0.65      0.72        51\n",
      "           5       0.91      0.71      0.79        41\n",
      "           6       0.71      0.48      0.57        61\n",
      "           7       0.82      0.96      0.88        52\n",
      "           8       0.97      0.80      0.88        45\n",
      "           9       0.90      0.94      0.92        50\n",
      "\n",
      "    accuracy                           0.80       500\n",
      "   macro avg       0.82      0.81      0.81       500\n",
      "weighted avg       0.81      0.80      0.80       500\n",
      "\n"
     ]
    }
   ],
   "execution_count": 67
  },
  {
   "metadata": {
    "ExecuteTime": {
     "end_time": "2024-09-19T16:14:55.682549Z",
     "start_time": "2024-09-19T16:14:55.658004Z"
    }
   },
   "cell_type": "code",
   "source": [
    "train_accuracy=round(100*accuracy_score(yy,y_pred),2)\n",
    "print(f'The train accuracy score is {train_accuracy}%')"
   ],
   "id": "ec59710af894781",
   "outputs": [
    {
     "name": "stdout",
     "output_type": "stream",
     "text": [
      "The train accuracy score is 80.4%\n"
     ]
    }
   ],
   "execution_count": 68
  },
  {
   "metadata": {
    "ExecuteTime": {
     "end_time": "2024-09-19T16:15:52.365625Z",
     "start_time": "2024-09-19T16:15:51.746915Z"
    }
   },
   "cell_type": "code",
   "source": [
    "#reading the data csv and converting it into a dataframe\n",
    "dataset = pd.read_csv(\"/Users/AyshaZia/Desktop/fashion-mnist_test.csv\")\n",
    "#quick peek into the dataframe\n",
    "dataset.head()"
   ],
   "id": "46d08248cd2a3975",
   "outputs": [
    {
     "data": {
      "text/plain": [
       "   label  pixel1  pixel2  pixel3  pixel4  pixel5  pixel6  pixel7  pixel8  \\\n",
       "0      0       0       0       0       0       0       0       0       9   \n",
       "1      1       0       0       0       0       0       0       0       0   \n",
       "2      2       0       0       0       0       0       0      14      53   \n",
       "3      2       0       0       0       0       0       0       0       0   \n",
       "4      3       0       0       0       0       0       0       0       0   \n",
       "\n",
       "   pixel9  ...  pixel775  pixel776  pixel777  pixel778  pixel779  pixel780  \\\n",
       "0       8  ...       103        87        56         0         0         0   \n",
       "1       0  ...        34         0         0         0         0         0   \n",
       "2      99  ...         0         0         0         0        63        53   \n",
       "3       0  ...       137       126       140         0       133       224   \n",
       "4       0  ...         0         0         0         0         0         0   \n",
       "\n",
       "   pixel781  pixel782  pixel783  pixel784  \n",
       "0         0         0         0         0  \n",
       "1         0         0         0         0  \n",
       "2        31         0         0         0  \n",
       "3       222        56         0         0  \n",
       "4         0         0         0         0  \n",
       "\n",
       "[5 rows x 785 columns]"
      ],
      "text/html": [
       "<div>\n",
       "<style scoped>\n",
       "    .dataframe tbody tr th:only-of-type {\n",
       "        vertical-align: middle;\n",
       "    }\n",
       "\n",
       "    .dataframe tbody tr th {\n",
       "        vertical-align: top;\n",
       "    }\n",
       "\n",
       "    .dataframe thead th {\n",
       "        text-align: right;\n",
       "    }\n",
       "</style>\n",
       "<table border=\"1\" class=\"dataframe\">\n",
       "  <thead>\n",
       "    <tr style=\"text-align: right;\">\n",
       "      <th></th>\n",
       "      <th>label</th>\n",
       "      <th>pixel1</th>\n",
       "      <th>pixel2</th>\n",
       "      <th>pixel3</th>\n",
       "      <th>pixel4</th>\n",
       "      <th>pixel5</th>\n",
       "      <th>pixel6</th>\n",
       "      <th>pixel7</th>\n",
       "      <th>pixel8</th>\n",
       "      <th>pixel9</th>\n",
       "      <th>...</th>\n",
       "      <th>pixel775</th>\n",
       "      <th>pixel776</th>\n",
       "      <th>pixel777</th>\n",
       "      <th>pixel778</th>\n",
       "      <th>pixel779</th>\n",
       "      <th>pixel780</th>\n",
       "      <th>pixel781</th>\n",
       "      <th>pixel782</th>\n",
       "      <th>pixel783</th>\n",
       "      <th>pixel784</th>\n",
       "    </tr>\n",
       "  </thead>\n",
       "  <tbody>\n",
       "    <tr>\n",
       "      <th>0</th>\n",
       "      <td>0</td>\n",
       "      <td>0</td>\n",
       "      <td>0</td>\n",
       "      <td>0</td>\n",
       "      <td>0</td>\n",
       "      <td>0</td>\n",
       "      <td>0</td>\n",
       "      <td>0</td>\n",
       "      <td>9</td>\n",
       "      <td>8</td>\n",
       "      <td>...</td>\n",
       "      <td>103</td>\n",
       "      <td>87</td>\n",
       "      <td>56</td>\n",
       "      <td>0</td>\n",
       "      <td>0</td>\n",
       "      <td>0</td>\n",
       "      <td>0</td>\n",
       "      <td>0</td>\n",
       "      <td>0</td>\n",
       "      <td>0</td>\n",
       "    </tr>\n",
       "    <tr>\n",
       "      <th>1</th>\n",
       "      <td>1</td>\n",
       "      <td>0</td>\n",
       "      <td>0</td>\n",
       "      <td>0</td>\n",
       "      <td>0</td>\n",
       "      <td>0</td>\n",
       "      <td>0</td>\n",
       "      <td>0</td>\n",
       "      <td>0</td>\n",
       "      <td>0</td>\n",
       "      <td>...</td>\n",
       "      <td>34</td>\n",
       "      <td>0</td>\n",
       "      <td>0</td>\n",
       "      <td>0</td>\n",
       "      <td>0</td>\n",
       "      <td>0</td>\n",
       "      <td>0</td>\n",
       "      <td>0</td>\n",
       "      <td>0</td>\n",
       "      <td>0</td>\n",
       "    </tr>\n",
       "    <tr>\n",
       "      <th>2</th>\n",
       "      <td>2</td>\n",
       "      <td>0</td>\n",
       "      <td>0</td>\n",
       "      <td>0</td>\n",
       "      <td>0</td>\n",
       "      <td>0</td>\n",
       "      <td>0</td>\n",
       "      <td>14</td>\n",
       "      <td>53</td>\n",
       "      <td>99</td>\n",
       "      <td>...</td>\n",
       "      <td>0</td>\n",
       "      <td>0</td>\n",
       "      <td>0</td>\n",
       "      <td>0</td>\n",
       "      <td>63</td>\n",
       "      <td>53</td>\n",
       "      <td>31</td>\n",
       "      <td>0</td>\n",
       "      <td>0</td>\n",
       "      <td>0</td>\n",
       "    </tr>\n",
       "    <tr>\n",
       "      <th>3</th>\n",
       "      <td>2</td>\n",
       "      <td>0</td>\n",
       "      <td>0</td>\n",
       "      <td>0</td>\n",
       "      <td>0</td>\n",
       "      <td>0</td>\n",
       "      <td>0</td>\n",
       "      <td>0</td>\n",
       "      <td>0</td>\n",
       "      <td>0</td>\n",
       "      <td>...</td>\n",
       "      <td>137</td>\n",
       "      <td>126</td>\n",
       "      <td>140</td>\n",
       "      <td>0</td>\n",
       "      <td>133</td>\n",
       "      <td>224</td>\n",
       "      <td>222</td>\n",
       "      <td>56</td>\n",
       "      <td>0</td>\n",
       "      <td>0</td>\n",
       "    </tr>\n",
       "    <tr>\n",
       "      <th>4</th>\n",
       "      <td>3</td>\n",
       "      <td>0</td>\n",
       "      <td>0</td>\n",
       "      <td>0</td>\n",
       "      <td>0</td>\n",
       "      <td>0</td>\n",
       "      <td>0</td>\n",
       "      <td>0</td>\n",
       "      <td>0</td>\n",
       "      <td>0</td>\n",
       "      <td>...</td>\n",
       "      <td>0</td>\n",
       "      <td>0</td>\n",
       "      <td>0</td>\n",
       "      <td>0</td>\n",
       "      <td>0</td>\n",
       "      <td>0</td>\n",
       "      <td>0</td>\n",
       "      <td>0</td>\n",
       "      <td>0</td>\n",
       "      <td>0</td>\n",
       "    </tr>\n",
       "  </tbody>\n",
       "</table>\n",
       "<p>5 rows × 785 columns</p>\n",
       "</div>"
      ]
     },
     "execution_count": 69,
     "metadata": {},
     "output_type": "execute_result"
    }
   ],
   "execution_count": 69
  },
  {
   "metadata": {
    "ExecuteTime": {
     "end_time": "2024-09-19T16:16:09.144571Z",
     "start_time": "2024-09-19T16:16:09.102131Z"
    }
   },
   "cell_type": "code",
   "source": "dataset.info()",
   "id": "f6ef7ba0bb50e285",
   "outputs": [
    {
     "name": "stdout",
     "output_type": "stream",
     "text": [
      "<class 'pandas.core.frame.DataFrame'>\n",
      "RangeIndex: 10000 entries, 0 to 9999\n",
      "Columns: 785 entries, label to pixel784\n",
      "dtypes: int64(785)\n",
      "memory usage: 59.9 MB\n"
     ]
    }
   ],
   "execution_count": 70
  },
  {
   "metadata": {
    "ExecuteTime": {
     "end_time": "2024-09-19T16:16:56.637591Z",
     "start_time": "2024-09-19T16:16:56.587380Z"
    }
   },
   "cell_type": "code",
   "source": "dataset.isnull().sum().sum()",
   "id": "a3c437213e075020",
   "outputs": [
    {
     "data": {
      "text/plain": [
       "0"
      ]
     },
     "execution_count": 72,
     "metadata": {},
     "output_type": "execute_result"
    }
   ],
   "execution_count": 72
  },
  {
   "metadata": {
    "ExecuteTime": {
     "end_time": "2024-09-19T16:17:44.790494Z",
     "start_time": "2024-09-19T16:17:44.568448Z"
    }
   },
   "cell_type": "code",
   "source": "dataset.duplicated().sum()",
   "id": "cb2001b605564b53",
   "outputs": [
    {
     "data": {
      "text/plain": [
       "0"
      ]
     },
     "execution_count": 76,
     "metadata": {},
     "output_type": "execute_result"
    }
   ],
   "execution_count": 76
  },
  {
   "metadata": {
    "ExecuteTime": {
     "end_time": "2024-09-19T16:18:18.531790Z",
     "start_time": "2024-09-19T16:18:18.451475Z"
    }
   },
   "cell_type": "code",
   "source": [
    "X_test=dataset.drop('label',axis=1)\n",
    "y_test=dataset.label"
   ],
   "id": "d92a4a03482ca6e5",
   "outputs": [],
   "execution_count": 79
  },
  {
   "metadata": {
    "ExecuteTime": {
     "end_time": "2024-09-19T16:18:27.383725Z",
     "start_time": "2024-09-19T16:18:27.287713Z"
    }
   },
   "cell_type": "code",
   "source": "X_test_norm=normalize.transform(X_test)",
   "id": "6ea8c4636827d29b",
   "outputs": [],
   "execution_count": 80
  },
  {
   "metadata": {
    "ExecuteTime": {
     "end_time": "2024-09-19T16:18:35.036126Z",
     "start_time": "2024-09-19T16:18:34.539108Z"
    }
   },
   "cell_type": "code",
   "source": [
    "y_test_pred=knn.predict(X_test_norm)\n",
    "y_test_pred"
   ],
   "id": "e75f7a213e49595f",
   "outputs": [
    {
     "data": {
      "text/plain": [
       "array([0, 1, 2, ..., 8, 2, 6])"
      ]
     },
     "execution_count": 81,
     "metadata": {},
     "output_type": "execute_result"
    }
   ],
   "execution_count": 81
  },
  {
   "metadata": {
    "ExecuteTime": {
     "end_time": "2024-09-19T16:18:46.245015Z",
     "start_time": "2024-09-19T16:18:45.939978Z"
    }
   },
   "cell_type": "code",
   "source": [
    "sns.heatmap(confusion_matrix(y_test,y_test_pred), annot=True, cmap='mako', fmt='.5g')\n",
    "plt.xlabel('Predicted')\n",
    "plt.ylabel('Actuals');"
   ],
   "id": "41f610821de8781c",
   "outputs": [
    {
     "data": {
      "text/plain": [
       "<Figure size 432x288 with 2 Axes>"
      ],
      "image/png": "[encoded data removed]"
     },
     "metadata": {},
     "output_type": "display_data"
    }
   ],
   "execution_count": 82
  },
  {
   "metadata": {
    "ExecuteTime": {
     "end_time": "2024-09-19T16:19:00.423184Z",
     "start_time": "2024-09-19T16:19:00.377972Z"
    }
   },
   "cell_type": "code",
   "source": "print(classification_report(y_test,y_test_pred))",
   "id": "d0439eaeca7457cf",
   "outputs": [
    {
     "name": "stdout",
     "output_type": "stream",
     "text": [
      "              precision    recall  f1-score   support\n",
      "\n",
      "           0       0.62      0.82      0.71       999\n",
      "           1       0.97      0.93      0.95      1000\n",
      "           2       0.54      0.66      0.59      1000\n",
      "           3       0.78      0.84      0.81      1000\n",
      "           4       0.62      0.59      0.61      1000\n",
      "           5       0.93      0.50      0.65      1000\n",
      "           6       0.45      0.31      0.36      1000\n",
      "           7       0.67      0.86      0.75      1000\n",
      "           8       0.97      0.76      0.85      1000\n",
      "           9       0.80      0.94      0.86      1000\n",
      "\n",
      "    accuracy                           0.72      9999\n",
      "   macro avg       0.73      0.72      0.71      9999\n",
      "weighted avg       0.73      0.72      0.71      9999\n",
      "\n"
     ]
    }
   ],
   "execution_count": 83
  },
  {
   "metadata": {
    "ExecuteTime": {
     "end_time": "2024-09-19T16:19:13.721994Z",
     "start_time": "2024-09-19T16:19:13.699568Z"
    }
   },
   "cell_type": "code",
   "source": [
    "test_accuracy=round(100*accuracy_score(y_test,y_test_pred),2)\n",
    "print(f'The test accuracy score is {test_accuracy}%')"
   ],
   "id": "cb91f0387d477942",
   "outputs": [
    {
     "name": "stdout",
     "output_type": "stream",
     "text": [
      "The test accuracy score is 72.04%\n"
     ]
    }
   ],
   "execution_count": 84
  },
  {
   "metadata": {},
   "cell_type": "code",
   "outputs": [],
   "execution_count": null,
   "source": "",
   "id": "2067511662408639"
  }
 ],
 "metadata": {
  "kernelspec": {
   "display_name": "Python 3",
   "language": "python",
   "name": "python3"
  },
  "language_info": {
   "codemirror_mode": {
    "name": "ipython",
    "version": 2
   },
   "file_extension": ".py",
   "mimetype": "text/x-python",
   "name": "python",
   "nbconvert_exporter": "python",
   "pygments_lexer": "ipython2",
   "version": "2.7.6"
  }
 },
 "nbformat": 4,
 "nbformat_minor": 5
}
